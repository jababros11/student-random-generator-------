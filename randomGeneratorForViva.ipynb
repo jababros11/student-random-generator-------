{
 "cells": [
  {
   "cell_type": "code",
   "execution_count": 6,
   "metadata": {},
   "outputs": [],
   "source": [
    "import hashlib\n",
    "def giveRandom(name):\n",
    "    hash = int.from_bytes(hashlib.sha256(name.encode('utf-8')).digest(), 'big')\n",
    "    giveMod = hash%1500\n",
    "    return giveMod\n",
    "\n",
    "\n"
   ]
  },
  {
   "cell_type": "code",
   "execution_count": 7,
   "metadata": {},
   "outputs": [],
   "source": [
    "studentList = ['AARISH KUMAR ',\n",
    "'ABHAY PRATAP SINGH',\n",
    "'AMIT KUMAR PAL',\n",
    "'ATUL ANAND',\n",
    "'MAHAVEER' ,\n",
    "'MUSKAN GUPTA' ,\n",
    "'NIVEDITA SOLANKI',\n",
    "'PUSHKAR KUMAR ',\n",
    "'ROSHNI SETH',\n",
    "'SHIVAM RIYAR',\n",
    "'ABHAY YADAV' ,\n",
    "'AKASH KUMAR MAURY',\n",
    "'AKSHAT JAISWAL' ,\n",
    "'AKSHAY BHANDARI' ,\n",
    "'AMIT DWIVEDI' ,\n",
    "'ANJEET KESHARI' ,\n",
    "'ANUJ KUMAR',\n",
    "'GAURAV KUMAR' ,\n",
    "'HITESH SOLANKI',\n",
    "'MADHU KUMAR' ,\n",
    "'MANISH SONI',\n",
    "'PRAVESH KUMAR',\n",
    "'RAJESH PANDIT',\n",
    "'ROHIT KUMAR',\n",
    "'SAURABH KUMAR SINGH',\n",
    "'SHIVAM VERMA',\n",
    "'SOUMENDU ROY',\n",
    "'SUDHANSHU SHEKHAR' ,\n",
    "'UTKARSH PAL',\n",
    "'VIKASH LANJHIKAR',\n",
    "'MANISH PRASAD SHARMA']"
   ]
  },
  {
   "cell_type": "code",
   "execution_count": 8,
   "metadata": {},
   "outputs": [],
   "source": [
    "studentListWithRandomNumner = []\n",
    "\n",
    "for i in range(len(studentList)):\n",
    "    random = giveRandom(studentList[i])\n",
    "    studentListWithRandomNumner.append([random,studentList[i]])\n",
    "    \n"
   ]
  },
  {
   "cell_type": "code",
   "execution_count": 9,
   "metadata": {},
   "outputs": [],
   "source": [
    "studentListWithRandomNumner.sort()"
   ]
  },
  {
   "cell_type": "code",
   "execution_count": 10,
   "metadata": {},
   "outputs": [
    {
     "data": {
      "text/plain": [
       "[[38, 'ANUJ KUMAR'],\n",
       " [46, 'GAURAV KUMAR'],\n",
       " [109, 'AARISH KUMAR '],\n",
       " [141, 'NIVEDITA SOLANKI'],\n",
       " [170, 'MADHU KUMAR'],\n",
       " [187, 'SHIVAM RIYAR'],\n",
       " [201, 'SOUMENDU ROY'],\n",
       " [273, 'UTKARSH PAL'],\n",
       " [290, 'AKSHAT JAISWAL'],\n",
       " [305, 'ANJEET KESHARI'],\n",
       " [329, 'PRAVESH KUMAR'],\n",
       " [347, 'SAURABH KUMAR SINGH'],\n",
       " [525, 'SUDHANSHU SHEKHAR'],\n",
       " [624, 'ROSHNI SETH'],\n",
       " [630, 'SHIVAM VERMA'],\n",
       " [632, 'ROHIT KUMAR'],\n",
       " [727, 'MANISH SONI'],\n",
       " [818, 'ATUL ANAND'],\n",
       " [883, 'AKASH KUMAR MAURY'],\n",
       " [931, 'AMIT KUMAR PAL'],\n",
       " [933, 'VIKASH LANJHIKAR'],\n",
       " [935, 'RAJESH PANDIT'],\n",
       " [1062, 'MUSKAN GUPTA'],\n",
       " [1094, 'AMIT DWIVEDI'],\n",
       " [1146, 'MANISH PRASAD SHARMA'],\n",
       " [1162, 'ABHAY YADAV'],\n",
       " [1180, 'PUSHKAR KUMAR '],\n",
       " [1216, 'MAHAVEER'],\n",
       " [1290, 'HITESH SOLANKI'],\n",
       " [1362, 'ABHAY PRATAP SINGH'],\n",
       " [1399, 'AKSHAY BHANDARI']]"
      ]
     },
     "execution_count": 10,
     "metadata": {},
     "output_type": "execute_result"
    }
   ],
   "source": [
    "studentListWithRandomNumner"
   ]
  }
 ],
 "metadata": {
  "kernelspec": {
   "display_name": "Python 3",
   "language": "python",
   "name": "python3"
  },
  "language_info": {
   "codemirror_mode": {
    "name": "ipython",
    "version": 3
   },
   "file_extension": ".py",
   "mimetype": "text/x-python",
   "name": "python",
   "nbconvert_exporter": "python",
   "pygments_lexer": "ipython3",
   "version": "3.10.12"
  }
 },
 "nbformat": 4,
 "nbformat_minor": 2
}
